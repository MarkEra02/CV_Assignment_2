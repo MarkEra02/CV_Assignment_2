{
  "cells": [
    {
      "cell_type": "code",
      "execution_count": null,
      "metadata": {
        "id": "euRda90J4Fcy"
      },
      "outputs": [],
      "source": [
        "import random\n",
        "import shutil\n",
        "from shutil import copyfile\n",
        "import os\n",
        "import pandas as pd\n",
        "import numpy as np\n",
        "import tensorflow as tf\n",
        "from tensorflow.keras.preprocessing.image import ImageDataGenerator"
      ]
    },
    {
      "cell_type": "code",
      "execution_count": null,
      "metadata": {
        "colab": {
          "base_uri": "https://localhost:8081/"
        },
        "id": "X8BzVrZU3enL",
        "outputId": "3937f7b3-7b12-416c-8185-035337ce51db"
      },
      "outputs": [
        {
          "name": "stdout",
          "output_type": "stream",
          "text": [
            "Drive already mounted at /content/drive; to attempt to forcibly remount, call drive.mount(\"/content/drive\", force_remount=True).\n"
          ]
        }
      ],
      "source": [
        "from google.colab import drive\n",
        "drive.mount('/content/drive')"
      ]
    },
    {
      "cell_type": "code",
      "execution_count": null,
      "metadata": {
        "colab": {
          "base_uri": "https://localhost:8085/"
        },
        "id": "R7oR6RUO4Kyw",
        "outputId": "fb230141-261e-4c7e-a8b0-aa96d2d2de0e"
      },
      "outputs": [
        {
          "name": "stdout",
          "output_type": "stream",
          "text": [
            "Total Class Labels = 30\n"
          ]
        }
      ],
      "source": [
        "base_dir  = '/content/drive/compVisionPackage/Agricultural-crops'\n",
        "os.chdir(base_dir)\n",
        "\n",
        "drive_list = tf.io.gfile.listdir(base_dir)\n",
        "\n",
        "drive_labels = len(drive_list)\n",
        "print(f\"Total labels: = {drive_labels}\")"
      ]
    },
    {
      "cell_type": "code",
      "execution_count": null,
      "metadata": {
        "id": "4RfPFcoFgX1g"
      },
      "outputs": [],
      "source": [
        "def convert_jpeg_to_csv(img):\n",
        "  arr = np.asarray(img)\n",
        "  print(arr.shape)\n",
        "  lst = []\n",
        "  for row in arr:\n",
        "    tmp = []\n",
        "    for col in row:\n",
        "        tmp.append(str(col))\n",
        "    lst.append(tmp)\n",
        "  with open('my_file.csv', 'w') as f:\n",
        "    for row in lst:\n",
        "        f.write(','.join(row) + '\\n')"
      ]
    },
    {
      "cell_type": "code",
      "execution_count": null,
      "metadata": {
        "id": "AyMxpRp4oQMj"
      },
      "outputs": [],
      "source": [
        "def svm(W, X, Y):\n",
        "    reg_strength = 10000  \n",
        "\n",
        "    N = X.shape[0]\n",
        "    distances = 1 - Y * (np.dot(X, W))\n",
        "    distances[distances < 0] = 0 \n",
        "    hinge_loss = reg_strength * (np.sum(distances) / N)\n",
        "\n",
        "    cost = 1 / 2 * np.dot(W, W) + hinge_loss\n",
        "    return cost"
      ]
    },
    {
      "cell_type": "code",
      "execution_count": null,
      "metadata": {
        "id": "sf8VWtYC8kml"
      },
      "outputs": [],
      "source": [
        "\n",
        "\n",
        "import numpy as np\n",
        "import pandas as pd\n",
        "from sklearn.model_selection import train_test_split as tts\n",
        "\n",
        "\n",
        "learning_rate = 0.000001\n",
        "\n",
        "def init():\n",
        "    \n",
        "    for file in os.listdir(base_dir):\n",
        "      if file.endswith(\".jpeg\"):\n",
        "        convert_jpeg_to_csv(file)\n",
        "\n",
        "\n",
        "    data = pd.read_csv('./data.csv')\n",
        "    collect_map = {'M': 1, 'B': -1}\n",
        "    data['diagnosis'] = data['diagnosis'].map(collect_map)\n",
        "    data.drop(data.columns[[-1, 0]], axis=1, inplace=True)\n",
        "\n",
        "    Y = data.loc[:, 'diagnosis']\n",
        "    X = data.iloc[:, 1:]\n",
        "\n",
        "\n",
        "    X_train, X_test, y_train, y_test = tts(X, Y, test_size=0.1, train_size=0.9, random_state=42)\n",
        "\n",
        "    weights = np.zeros(X_train.shape[1])\n",
        "    cost = svm(weights, features, outputs)\n",
        "    print(\"Cost is: {}\".format(cost))\n",
        "    print(\"training finished.\")\n",
        "    print(\"weights are: {}\".format(W))\n",
        "\n",
        "\n",
        "def sgd(features, outputs):\n",
        "    max_epochs = 5000\n",
        "    weights = np.zeros(features.shape[1])\n",
        "    nth = 0\n",
        "    prev_cost = float(\"inf\")\n",
        "    cost_threshold = 0.01 \n",
        "    for epoch in range(1, max_epochs):\n",
        "        X, Y = shuffle(features, outputs)\n",
        "        for ind, x in enumerate(X):\n",
        "            ascent = calculate_cost_gradient(weights, x, Y[ind])\n",
        "            weights = weights - (learning_rate * ascent)\n",
        "        if epoch == 2 ** nth or epoch == max_epochs - 1:\n",
        "            cost = compute_cost(weights, features, outputs)\n",
        "            print(\"Epoch is:{} and Cost is: {}\".format(epoch, cost))\n",
        "            if abs(prev_cost - cost) < cost_threshold * prev_cost:\n",
        "                return weights\n",
        "            prev_cost = cost\n",
        "            nth += 1\n",
        "    return weights"
      ]
    },
    {
      "cell_type": "code",
      "execution_count": null,
      "metadata": {
        "id": "mjuGSLEgPqtq"
      },
      "outputs": [],
      "source": [
        "def softmax(z):\n",
        "    z -= np.max(z)\n",
        "    return np.exp(z) / np.sum(np.exp(z))"
      ]
    },
    {
      "cell_type": "code",
      "execution_count": null,
      "metadata": {
        "id": "1UNPvMe-iu3L"
      },
      "outputs": [],
      "source": [
        "def ridge_regression(X, y, alpha=0.01, lambda_value=1, epochs=30):\n",
        " \n",
        "    m = np.shape(X)[0]\n",
        "    n = np.shape(X)[1]\n",
        " \n",
        "    X = np.concatenate((np.ones((m, 1)), X), axis=1)\n",
        "    W = np.random.randn(n + 1, )\n",
        " \n",
        "    cost_history_list = []\n",
        " \n",
        "    for current_iteration in range(epochs):\n",
        " \n",
        "        y_estimated = X.dot(W)\n",
        " \n",
        "        error = y_estimated - y\n",
        " \n",
        "        ridge_reg_term = (lambda_value / 2 * m) * np.sum(np.square(W))\n",
        " \n",
        "        cost = (1 / 2 * m) * np.sum(error ** 2) + ridge_reg_term\n",
        " \n",
        "        gradient = (1 / m) * (X.T.dot(error) + (lambda_value * W))\n",
        " \n",
        "        W = W - alpha * gradient\n",
        " \n",
        "        print(f\"cost:{cost} \\t iteration: {current_iteration}\")\n",
        " \n",
        "        cost_history_list.append(cost)\n",
        " \n",
        "    return W, cost_history_list"
      ]
    }
  ],
  "metadata": {
    "colab": {
      "collapsed_sections": [],
      "include_colab_link": true,
      "name": "05-11-21-python-compvs-edabit.ipynb",
      "provenance": []
    },
    "kernelspec": {
      "display_name": "Python 3",
      "name": "python3"
    },
    "language_info": {
      "name": "python"
    }
  },
  "nbformat": 4,
  "nbformat_minor": 0
}
